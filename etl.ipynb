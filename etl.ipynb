{
 "cells": [
  {
   "cell_type": "code",
   "execution_count": 16,
   "metadata": {},
   "outputs": [],
   "source": [
    "import pandas as pd"
   ]
  },
  {
   "cell_type": "code",
   "execution_count": 22,
   "metadata": {},
   "outputs": [],
   "source": [
    "df = pd.read_csv('datasets/Coursera_reviews.csv')"
   ]
  },
  {
   "cell_type": "code",
   "execution_count": 18,
   "metadata": {},
   "outputs": [],
   "source": [
    "df1 = df.drop_duplicates()"
   ]
  },
  {
   "cell_type": "code",
   "execution_count": 23,
   "metadata": {},
   "outputs": [],
   "source": [
    "df1.reset_index( inplace=True)"
   ]
  },
  {
   "cell_type": "code",
   "execution_count": 24,
   "metadata": {},
   "outputs": [],
   "source": [
    "df1.reviews = df1.reviews.apply(lambda x : str(x).lower())"
   ]
  },
  {
   "cell_type": "code",
   "execution_count": 25,
   "metadata": {},
   "outputs": [
    {
     "data": {
      "text/html": [
       "<div>\n",
       "<style scoped>\n",
       "    .dataframe tbody tr th:only-of-type {\n",
       "        vertical-align: middle;\n",
       "    }\n",
       "\n",
       "    .dataframe tbody tr th {\n",
       "        vertical-align: top;\n",
       "    }\n",
       "\n",
       "    .dataframe thead th {\n",
       "        text-align: right;\n",
       "    }\n",
       "</style>\n",
       "<table border=\"1\" class=\"dataframe\">\n",
       "  <thead>\n",
       "    <tr style=\"text-align: right;\">\n",
       "      <th></th>\n",
       "      <th>index</th>\n",
       "      <th>reviews</th>\n",
       "      <th>reviewers</th>\n",
       "      <th>date_reviews</th>\n",
       "      <th>rating</th>\n",
       "      <th>course_id</th>\n",
       "    </tr>\n",
       "  </thead>\n",
       "  <tbody>\n",
       "    <tr>\n",
       "      <th>0</th>\n",
       "      <td>0</td>\n",
       "      <td>pretty dry, but i was able to pass with just t...</td>\n",
       "      <td>By Robert S</td>\n",
       "      <td>Feb 12, 2020</td>\n",
       "      <td>4</td>\n",
       "      <td>google-cbrs-cpi-training</td>\n",
       "    </tr>\n",
       "    <tr>\n",
       "      <th>1</th>\n",
       "      <td>1</td>\n",
       "      <td>would be a better experience if the video and ...</td>\n",
       "      <td>By Gabriel E R</td>\n",
       "      <td>Sep 28, 2020</td>\n",
       "      <td>4</td>\n",
       "      <td>google-cbrs-cpi-training</td>\n",
       "    </tr>\n",
       "    <tr>\n",
       "      <th>2</th>\n",
       "      <td>2</td>\n",
       "      <td>information was perfect! the program itself wa...</td>\n",
       "      <td>By Jacob D</td>\n",
       "      <td>Apr 08, 2020</td>\n",
       "      <td>4</td>\n",
       "      <td>google-cbrs-cpi-training</td>\n",
       "    </tr>\n",
       "    <tr>\n",
       "      <th>3</th>\n",
       "      <td>3</td>\n",
       "      <td>a few grammatical mistakes on test made me do ...</td>\n",
       "      <td>By Dale B</td>\n",
       "      <td>Feb 24, 2020</td>\n",
       "      <td>4</td>\n",
       "      <td>google-cbrs-cpi-training</td>\n",
       "    </tr>\n",
       "    <tr>\n",
       "      <th>4</th>\n",
       "      <td>4</td>\n",
       "      <td>excellent course and the training provided was...</td>\n",
       "      <td>By Sean G</td>\n",
       "      <td>Jun 18, 2020</td>\n",
       "      <td>4</td>\n",
       "      <td>google-cbrs-cpi-training</td>\n",
       "    </tr>\n",
       "    <tr>\n",
       "      <th>...</th>\n",
       "      <td>...</td>\n",
       "      <td>...</td>\n",
       "      <td>...</td>\n",
       "      <td>...</td>\n",
       "      <td>...</td>\n",
       "      <td>...</td>\n",
       "    </tr>\n",
       "    <tr>\n",
       "      <th>519942</th>\n",
       "      <td>1454636</td>\n",
       "      <td>amazing</td>\n",
       "      <td>By FANISHA A A</td>\n",
       "      <td>Oct 10, 2020</td>\n",
       "      <td>5</td>\n",
       "      <td>computer-networking</td>\n",
       "    </tr>\n",
       "    <tr>\n",
       "      <th>519943</th>\n",
       "      <td>1454639</td>\n",
       "      <td>great</td>\n",
       "      <td>By Ilona Y Z</td>\n",
       "      <td>Oct 07, 2020</td>\n",
       "      <td>5</td>\n",
       "      <td>computer-networking</td>\n",
       "    </tr>\n",
       "    <tr>\n",
       "      <th>519944</th>\n",
       "      <td>1454642</td>\n",
       "      <td>nice</td>\n",
       "      <td>By Aung T K</td>\n",
       "      <td>Oct 10, 2020</td>\n",
       "      <td>5</td>\n",
       "      <td>computer-networking</td>\n",
       "    </tr>\n",
       "    <tr>\n",
       "      <th>519945</th>\n",
       "      <td>1454643</td>\n",
       "      <td>good</td>\n",
       "      <td>By Anthony N S</td>\n",
       "      <td>Oct 08, 2020</td>\n",
       "      <td>5</td>\n",
       "      <td>computer-networking</td>\n",
       "    </tr>\n",
       "    <tr>\n",
       "      <th>519946</th>\n",
       "      <td>1454644</td>\n",
       "      <td>good</td>\n",
       "      <td>By Kasirivu A K</td>\n",
       "      <td>Oct 07, 2020</td>\n",
       "      <td>5</td>\n",
       "      <td>computer-networking</td>\n",
       "    </tr>\n",
       "  </tbody>\n",
       "</table>\n",
       "<p>519947 rows × 6 columns</p>\n",
       "</div>"
      ],
      "text/plain": [
       "          index                                            reviews   \n",
       "0             0  pretty dry, but i was able to pass with just t...  \\\n",
       "1             1  would be a better experience if the video and ...   \n",
       "2             2  information was perfect! the program itself wa...   \n",
       "3             3  a few grammatical mistakes on test made me do ...   \n",
       "4             4  excellent course and the training provided was...   \n",
       "...         ...                                                ...   \n",
       "519942  1454636                                            amazing   \n",
       "519943  1454639                                              great   \n",
       "519944  1454642                                               nice   \n",
       "519945  1454643                                               good   \n",
       "519946  1454644                                               good   \n",
       "\n",
       "              reviewers  date_reviews  rating                 course_id  \n",
       "0           By Robert S  Feb 12, 2020       4  google-cbrs-cpi-training  \n",
       "1        By Gabriel E R  Sep 28, 2020       4  google-cbrs-cpi-training  \n",
       "2            By Jacob D  Apr 08, 2020       4  google-cbrs-cpi-training  \n",
       "3             By Dale B  Feb 24, 2020       4  google-cbrs-cpi-training  \n",
       "4             By Sean G  Jun 18, 2020       4  google-cbrs-cpi-training  \n",
       "...                 ...           ...     ...                       ...  \n",
       "519942   By FANISHA A A  Oct 10, 2020       5       computer-networking  \n",
       "519943     By Ilona Y Z  Oct 07, 2020       5       computer-networking  \n",
       "519944      By Aung T K  Oct 10, 2020       5       computer-networking  \n",
       "519945   By Anthony N S  Oct 08, 2020       5       computer-networking  \n",
       "519946  By Kasirivu A K  Oct 07, 2020       5       computer-networking  \n",
       "\n",
       "[519947 rows x 6 columns]"
      ]
     },
     "execution_count": 25,
     "metadata": {},
     "output_type": "execute_result"
    }
   ],
   "source": [
    "df1"
   ]
  },
  {
   "cell_type": "code",
   "execution_count": null,
   "metadata": {},
   "outputs": [],
   "source": [
    "df.to_csv('datasets/clean_coursera_reviews.csv')"
   ]
  }
 ],
 "metadata": {
  "kernelspec": {
   "display_name": "Python 3",
   "language": "python",
   "name": "python3"
  },
  "language_info": {
   "codemirror_mode": {
    "name": "ipython",
    "version": 3
   },
   "file_extension": ".py",
   "mimetype": "text/x-python",
   "name": "python",
   "nbconvert_exporter": "python",
   "pygments_lexer": "ipython3",
   "version": "3.9.6"
  },
  "orig_nbformat": 4
 },
 "nbformat": 4,
 "nbformat_minor": 2
}
